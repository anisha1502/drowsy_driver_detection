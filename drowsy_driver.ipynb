{
 "cells": [
  {
   "cell_type": "code",
   "execution_count": 16,
   "metadata": {},
   "outputs": [
    {
     "name": "stdout",
     "output_type": "stream",
     "text": [
      "exit\n"
     ]
    }
   ],
   "source": [
    "#import the necessary packages \n",
    "#install dlib \n",
    "try:\n",
    "    from scipy.spatial import distance\n",
    "    from imutils import face_utils\n",
    "    import imutils\n",
    "    import dlib\n",
    "    import cv2\n",
    "    import playsound\n",
    "    #this function here is used to calculate the euclidean distance\n",
    "    def eye_aspect_ratio(eye):\n",
    "        A = distance.euclidean(eye[1], eye[5])\n",
    "        B = distance.euclidean(eye[2], eye[4])\n",
    "        C = distance.euclidean(eye[0], eye[3])\n",
    "        ear = (A + B) / (2.0 * C)\n",
    "        return ear\n",
    "\n",
    "    #this function is used to play the alarm sound when the driver sleeps\n",
    "    def sound_alarm(path):\n",
    "        playsound.playsound(path)\n",
    "    #thresh here is defined to compare with the euclidean distance whwn eyes are closed\n",
    "    thresh = 0.25\n",
    "    #frame check is to keep a counter to see if its a blink or if the driver is drowsy\n",
    "    frame_check = 20\n",
    "    detect = dlib.get_frontal_face_detector()\n",
    "    predict = dlib.shape_predictor(r\"C:\\Users\\ARF\\AppData\\Local\\Programs\\Python\\Python37\\Lib\\site-packages\\shape_detection\\shape_predictor_68_face_landmarks.dat\")# Dat file is the crux of the code\n",
    "\n",
    "    (lStart, lEnd) = face_utils.FACIAL_LANDMARKS_68_IDXS[\"left_eye\"]\n",
    "    (rStart, rEnd) = face_utils.FACIAL_LANDMARKS_68_IDXS[\"right_eye\"]\n",
    "    #print((lStart,lEnd))\n",
    "    cap=cv2.VideoCapture(0)\n",
    "    flag=0\n",
    "    while True:\n",
    "        ret, frame=cap.read()\n",
    "        frame = imutils.resize(frame, width=450)\n",
    "        gray = cv2.cvtColor(frame, cv2.COLOR_BGR2GRAY)\n",
    "        subjects = detect(gray, 0)\n",
    "        for subject in subjects:\n",
    "            shape = predict(gray, subject)\n",
    "            shape = face_utils.shape_to_np(shape)#converting to NumPy Array\n",
    "            leftEye = shape[lStart:lEnd]\n",
    "            rightEye = shape[rStart:rEnd]\n",
    "            leftEAR = eye_aspect_ratio(leftEye)\n",
    "            rightEAR = eye_aspect_ratio(rightEye)\n",
    "            ear = (leftEAR + rightEAR) / 2.0\n",
    "            leftEyeHull = cv2.convexHull(leftEye)\n",
    "            rightEyeHull = cv2.convexHull(rightEye)\n",
    "            cv2.drawContours(frame, [leftEyeHull], -1, (0, 255, 0), 1)\n",
    "            cv2.drawContours(frame, [rightEyeHull], -1, (0, 255, 0), 1)\n",
    "            if ear < thresh:\n",
    "                flag += 1\n",
    "                if flag >= frame_check:\n",
    "                    sound_alarm(r'C:\\music\\beep.mp3')\n",
    "            else:\n",
    "                flag = 0\n",
    "        cv2.imshow(\"Frame\", frame)\n",
    "        key = cv2.waitKey(1) & 0xFF\n",
    "        if key == ord(\"q\"):\n",
    "            cv2.destroyAllWindows()\n",
    "            cap.release()\n",
    "            break\n",
    "except KeyboardInterrupt:\n",
    "    print(\"exit\")"
   ]
  },
  {
   "cell_type": "code",
   "execution_count": 17,
   "metadata": {},
   "outputs": [],
   "source": [
    "#run to stop close the webcam\n",
    "cap.release()"
   ]
  },
  {
   "cell_type": "code",
   "execution_count": null,
   "metadata": {},
   "outputs": [],
   "source": []
  }
 ],
 "metadata": {
  "kernelspec": {
   "display_name": "Python 3",
   "language": "python",
   "name": "python3"
  },
  "language_info": {
   "codemirror_mode": {
    "name": "ipython",
    "version": 3
   },
   "file_extension": ".py",
   "mimetype": "text/x-python",
   "name": "python",
   "nbconvert_exporter": "python",
   "pygments_lexer": "ipython3",
   "version": "3.7.5"
  }
 },
 "nbformat": 4,
 "nbformat_minor": 4
}
